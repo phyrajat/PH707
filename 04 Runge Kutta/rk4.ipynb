{
 "cells": [
  {
   "cell_type": "code",
   "execution_count": null,
   "metadata": {},
   "outputs": [],
   "source": [
    "import numpy as np\n",
    "import math\n",
    "import matplotlib.pyplot as plt"
   ]
  },
  {
   "cell_type": "code",
   "execution_count": null,
   "metadata": {},
   "outputs": [],
   "source": [
    "def pendulum(x, t):\n",
    "    return np.array([x[1], - 4 * math.pi * math.pi * math.sin(x[0])])\n",
    "\n",
    "#The Euler stepper\n",
    "def euler(dxdt, x, t, dt):\n",
    "    return t + dt, x + dxdt(x, t) * dt\n",
    "\n",
    "#The Runge Kutta stepper\n",
    "def rk4(dxdt, x, t, dt):\n",
    "    k1 = dxdt(x, t)\n",
    "    k2 = dxdt(x + (dt / 2) * k1, t + dt / 2)\n",
    "    k3 = dxdt(x + (dt / 2) * k2, t + dt / 2)\n",
    "    k4 = dxdt(x + dt * k3, t + dt)\n",
    "    return t + dt, x + (dt / 6) * (k1 + 2 * k2 + 2 * k3 + k4)"
   ]
  },
  {
   "cell_type": "code",
   "execution_count": null,
   "metadata": {},
   "outputs": [],
   "source": [
    "numsteps = 100\n",
    "x = np.array([0, .2])\n",
    "t = 0\n",
    "dt = 1/(numsteps - 1)\n",
    "solution_rk4 = [np.array(t), np.array(x[0]), np.array(x[1])]\n",
    "\n",
    "for i in range(numsteps):\n",
    "    t, x = rk4(pendulum, x, t, dt)\n",
    "    solution_rk4[0] = np.append(solution_rk4[0], t)\n",
    "    solution_rk4[1] = np.append(solution_rk4[1], x[0])\n",
    "    solution_rk4[2] = np.append(solution_rk4[2], x[1])\n",
    "\n",
    "plt.plot(solution_rk4[0], solution_rk4[1])\n",
    "plt.show()"
   ]
  },
  {
   "cell_type": "code",
   "execution_count": null,
   "metadata": {},
   "outputs": [],
   "source": []
  }
 ],
 "metadata": {
  "kernelspec": {
   "display_name": "Python 3.10.5 64-bit",
   "language": "python",
   "name": "python3"
  },
  "language_info": {
   "codemirror_mode": {
    "name": "ipython",
    "version": 3
   },
   "file_extension": ".py",
   "mimetype": "text/x-python",
   "name": "python",
   "nbconvert_exporter": "python",
   "pygments_lexer": "ipython3",
   "version": "3.10.5"
  },
  "orig_nbformat": 4,
  "vscode": {
   "interpreter": {
    "hash": "26de051ba29f2982a8de78e945f0abaf191376122a1563185a90213a26c5da77"
   }
  }
 },
 "nbformat": 4,
 "nbformat_minor": 2
}
